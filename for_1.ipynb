{
  "nbformat": 4,
  "nbformat_minor": 0,
  "metadata": {
    "colab": {
      "provenance": [],
      "authorship_tag": "ABX9TyNo/HUpZDfFlQjtakPlMIJm",
      "include_colab_link": true
    },
    "kernelspec": {
      "name": "python3",
      "display_name": "Python 3"
    },
    "language_info": {
      "name": "python"
    }
  },
  "cells": [
    {
      "cell_type": "markdown",
      "metadata": {
        "id": "view-in-github",
        "colab_type": "text"
      },
      "source": [
        "<a href=\"https://colab.research.google.com/github/mariasofia200/ejercicos_python/blob/main/for_1.ipynb\" target=\"_parent\"><img src=\"https://colab.research.google.com/assets/colab-badge.svg\" alt=\"Open In Colab\"/></a>"
      ]
    },
    {
      "cell_type": "code",
      "source": [
        "print (\"bienvenido a google colaboratory\")\n",
        "\n",
        "# programa no. 1 instruccion for\n",
        "# mostrar la suma de los10 primeros numeros naturales\n",
        "\n",
        "# input\n",
        "\n",
        "#processing\n",
        "suma = 0\n",
        "serie = list (range(1,11))\n",
        "for i in range(1,11):\n",
        "  suma = suma + i\n",
        "\n",
        "# output\n",
        "print (\"la suma es : \" + str(suma))\n",
        "print(serie)"
      ],
      "metadata": {
        "id": "cKTTMBIIQdub"
      },
      "execution_count": null,
      "outputs": []
    },
    {
      "cell_type": "code",
      "source": [
        "# ejercico no. 2: mostrar los numeros del 1 al 10 , sin usar instrucciones repetitivas\n",
        "\n",
        "print(1)\n",
        "print(2)\n",
        "print(3)\n",
        "print(4)\n",
        "print(5)\n",
        "print(6)\n",
        "print(7)\n",
        "print(8)\n",
        "print(9)\n",
        "print(10)"
      ],
      "metadata": {
        "id": "YnHBPq-7TNws"
      },
      "execution_count": null,
      "outputs": []
    },
    {
      "cell_type": "code",
      "source": [
        "# ejercicio no. 3 mostrar los numeros del 1 al 10 , usando la instrcciones while\n",
        "\n",
        "i = i\n",
        "while (i <= 10):\n",
        "  print (i)\n",
        "  i = i + i"
      ],
      "metadata": {
        "id": "h4upLKuZUDjx"
      },
      "execution_count": null,
      "outputs": []
    },
    {
      "cell_type": "code",
      "source": [
        "# ejercicio no. 4:mostrar los numeros del 1 al 10 ,usando las instrucciones for y la funcion range\n",
        "\n",
        "for i in range(1,11):\n",
        "  print(i)"
      ],
      "metadata": {
        "id": "VGED0Y2BUl0Z"
      },
      "execution_count": null,
      "outputs": []
    },
    {
      "cell_type": "code",
      "source": [
        "# ejercicio no. 5:mostrar los numeros del 1 al 10 , usando la instruccion for y una lista\n",
        "\n",
        "mi_lista = [1,2,3,4,5,6,7,8,9,10 ]\n",
        "for i in mi_lista:\n",
        "  print(i)"
      ],
      "metadata": {
        "id": "Yr3sSq-VVE8I"
      },
      "execution_count": null,
      "outputs": []
    },
    {
      "cell_type": "code",
      "source": [
        "# ejercicio no. 6: mostrar unafrase 10 veces , usando las instrucciones for y ua lista\n",
        "\n",
        "mi_lista = [1,2,3,4,5,6,7,8,9,10 ]\n",
        "for i in mi_lista:\n",
        "  print(f\"{i} guanenta 200 años!\")"
      ],
      "metadata": {
        "id": "m91sP1_LVtVY"
      },
      "execution_count": null,
      "outputs": []
    },
    {
      "cell_type": "code",
      "source": [
        "# ejercicio no. 7: mostar las silaba inicial de los dias de la semana , usando for y una lista\n",
        "\n",
        "dias_semana = (\"lu\", \"ma\",\"mi\",\"ju\",\"vi\", \"sa\",\"do\")\n",
        "for i in dias_semana:\n",
        "  print(i)"
      ],
      "metadata": {
        "id": "j2nT3spHW0Na"
      },
      "execution_count": null,
      "outputs": []
    },
    {
      "cell_type": "code",
      "source": [
        "# ejercicio no. 8: mostrar unna lista de distintos tipos de datos usando for\n",
        "\n",
        "mi_listica = [1, 3.14, 9, True, \"sofia\", 8, \"guanenta\"]\n",
        "for i in mi_listica:\n",
        "  print(i)"
      ],
      "metadata": {
        "id": "jkVOAHbtXemE"
      },
      "execution_count": null,
      "outputs": []
    },
    {
      "cell_type": "code",
      "source": [
        "# ejercicio no. 9: ingresar su nombre y mostarlo letra por letra , usando for\n",
        "\n",
        "nombre= input(\"digite su nombre: \")\n",
        "\n",
        "for i in nombre:\n",
        "  print(i)"
      ],
      "metadata": {
        "id": "yMkWHtLvYRsI"
      },
      "execution_count": null,
      "outputs": []
    },
    {
      "cell_type": "code",
      "source": [
        "# ejercicio no. 10:  ingresar su nombre y mostarlo letra por letra , usando for\n",
        "#reemplazando la vocal a por un asterisco\n",
        "\n",
        "nombre= input(\"digite su nombre: \")\n",
        "\n",
        "for i in nombre:\n",
        "  if i == 'a':\n",
        "    print (\"*\")\n",
        "  else:\n",
        "    print(i)"
      ],
      "metadata": {
        "id": "qIHMbfS1ZZus"
      },
      "execution_count": null,
      "outputs": []
    },
    {
      "cell_type": "code",
      "source": [
        "# ejercicio no. 11: ingresar su nombre y mostrarlo letra por letra en mayuscula ,usando for.\n",
        "\n",
        "nombre = input (\"digite su nombre: \")\n",
        "\n",
        "for i in nombre:\n",
        "  print(i.uppeer())"
      ],
      "metadata": {
        "id": "-2jZUCbAbm3D"
      },
      "execution_count": null,
      "outputs": []
    },
    {
      "cell_type": "code",
      "source": [
        "# TALLER\n",
        "\n",
        "# ejerccio no. 1: Dada la siguiente lista de números [20,21,30,41,50,51,20], mostrar en pantalla solo los que no terminan en uno (1)\n",
        "\n",
        "numeros = [20, 21, 30, 41, 50, 51, 20]\n",
        "\n",
        "\n",
        "for numero in numeros:\n",
        "    if numero % 10 != 1:\n",
        "        print(numero)\n"
      ],
      "metadata": {
        "id": "85CUBW2wGlil"
      },
      "execution_count": null,
      "outputs": []
    },
    {
      "cell_type": "code",
      "source": [
        "# ejercicio no. 2: Mostrar mil veces la palabra \"Programación\"\n",
        "\n",
        "for _ in range(1000):\n",
        "    print(\"Programación\")"
      ],
      "metadata": {
        "id": "rfFWCoHTIufK"
      },
      "execution_count": null,
      "outputs": []
    },
    {
      "cell_type": "code",
      "source": [
        "# ejercicio no.  3: Del conjunto de cadenas [\"E\", \"F\", \"M\", \"A\"] que corresponde a las iniciales de los 4 primeros meses del año, mostrar el nombre completo de dichos meses.\n",
        "\n",
        "meses = {\"E\": \"Enero\",\n",
        "    \"F\": \"Febrero\",\n",
        "    \"M\": \"Marzo\",\n",
        "    \"A\": \"Abril\"}\n",
        "\n",
        "iniciales = [\"E\", \"F\", \"M\", \"A\"]\n",
        "\n",
        "nombres_completos = [meses[inicial] for inicial in iniciales]\n",
        "\n",
        "print(nombres_completos)"
      ],
      "metadata": {
        "id": "mYb9L9NwJKU_"
      },
      "execution_count": null,
      "outputs": []
    },
    {
      "cell_type": "code",
      "source": [
        "# ejercicio no. 4: Leer un texto y determinar cuántas veces dicho texto contiene cada una de las vocales en minúscula y mayúscula\n",
        "\n"
      ],
      "metadata": {
        "id": "AzmZ-frsMRgE"
      },
      "execution_count": null,
      "outputs": []
    },
    {
      "cell_type": "code",
      "source": [
        "#ejercicio no. 5: Consulte cómo se representa en un diagrama de flujo la instrucción repetitiva for.  Agregue lo consultado en el archivo README del respositorio, o en una celta de texto del cuaderno de\n",
        "\n",
        "La instrucción for en un diagrama de flujo se representa con un símbolo de inicio, seguido de la inicialización y condición de repetición dentro del bucle.\n",
        "Luego, se muestra el cuerpo del bucle y, finalmente, un símbolo de fin para indicar el final del bucle.\n"
      ],
      "metadata": {
        "id": "qlGfBoPoOIJ6"
      },
      "execution_count": null,
      "outputs": []
    },
    {
      "cell_type": "code",
      "source": [
        "# ejercicio no. 6: Leer 20 números enteros y averiguar cuántos son pares y cuántos son impares.\n"
      ],
      "metadata": {
        "id": "6Xaqpg2ORKak"
      },
      "execution_count": null,
      "outputs": []
    },
    {
      "cell_type": "code",
      "source": [
        "# ejercicio no. 7: Programa que averigüe e imprima cuántos múltiplos de 7, y cuántos múltiplos de 9, hay en los números comprendidos entre 1000 y 5000.\n",
        "\n",
        "inicio = 1000\n",
        "fin = 5000\n",
        "\n",
        "\n",
        "multiplos_7 = 0\n",
        "multiplos_9 = 0\n",
        "\n",
        "for i in range(inicio, fin + 1):\n",
        "    if i % 7 == 0:\n",
        "        multiplos_7 += 1\n",
        "    if i % 9 == 0:\n",
        "        multiplos_9 += 1\n",
        "\n",
        "\n",
        "print(\"Cantidad de múltiplos de 7 entre 1000 y 5000:\", multiplos_7)\n",
        "print(\"Cantidad de múltiplos de 9 entre 1000 y 5000:\", multiplos_9)"
      ],
      "metadata": {
        "id": "2yNZQbvMT_W4"
      },
      "execution_count": null,
      "outputs": []
    },
    {
      "cell_type": "code",
      "source": [
        "# ejercicio no. 8: Simular el lanzamiento de N dados, y contar cuántas veces cae cada cara, añadiendo un histograma para cada uno.  El histograma puede ser creado con asteriscos o cualquier otro caracter.\n"
      ],
      "metadata": {
        "id": "OHUt7Zdmg5fA"
      },
      "execution_count": null,
      "outputs": []
    }
  ]
}